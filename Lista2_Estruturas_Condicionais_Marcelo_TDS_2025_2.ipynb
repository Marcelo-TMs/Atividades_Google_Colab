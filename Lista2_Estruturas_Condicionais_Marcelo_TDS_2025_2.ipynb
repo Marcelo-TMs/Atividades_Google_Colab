{
  "nbformat": 4,
  "nbformat_minor": 0,
  "metadata": {
    "colab": {
      "provenance": [],
      "authorship_tag": "ABX9TyO0IIjzqZvwKL28f9o1G0gD"
    },
    "kernelspec": {
      "name": "python3",
      "display_name": "Python 3"
    },
    "language_info": {
      "name": "python"
    }
  },
  "cells": [
    {
      "cell_type": "markdown",
      "source": [
        "# Nome: Marcelo de Souza Franco\n",
        "# Desciplina: Desenvolvimento para Sistemas Web\n",
        "# Turma: TDSV3A\n",
        "\n",
        "![IFB_Brasilia.png](data:image/png;base64,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)"
      ],
      "metadata": {
        "id": "h5xO4WuOySOd"
      }
    },
    {
      "cell_type": "code",
      "execution_count": 1,
      "metadata": {
        "id": "wmu3h17Qrb3I",
        "colab": {
          "base_uri": "https://localhost:8080/"
        },
        "outputId": "46a745df-8240-498c-bbea-8d54590971f5"
      },
      "outputs": [
        {
          "output_type": "stream",
          "name": "stdout",
          "text": [
            "Digite um número REAL: 12\n",
            "12.0 é maior que 10\n"
          ]
        }
      ],
      "source": [
        "# Lista de Exercícios N° 02\n",
        "'''\n",
        "1. Elabore um programa que solicite ao usuário\n",
        "um número real e ao final imprima na tela se o\n",
        "número informado é maior que 10 (dez)\n",
        "'''\n",
        "\n",
        "num = float(input(\"Digite um número REAL: \"))\n",
        "\n",
        "if num > 10:\n",
        "  print(num,\"é maior que 10\")"
      ]
    },
    {
      "cell_type": "code",
      "source": [
        "'''\n",
        "2. Escreva um programa que solicite ao usuário\n",
        "um número real e ao final imprima na tela se o\n",
        "número informado é maior ou igual a dez ou\n",
        "menor que 10 (dez)\n",
        "'''\n",
        "\n",
        "num = float(input(\"Digite um número REAL: \"))\n",
        "\n",
        "if num >= 10:\n",
        "  print(num,\"é maior ou igual a 10\")\n",
        "else:\n",
        "  print(num,\"é menor que 10\")"
      ],
      "metadata": {
        "id": "hhtzRKZWwOHc",
        "colab": {
          "base_uri": "https://localhost:8080/"
        },
        "outputId": "16a83657-b6c6-4a6d-ff4b-f600ea1eb223"
      },
      "execution_count": 2,
      "outputs": [
        {
          "output_type": "stream",
          "name": "stdout",
          "text": [
            "Digite um número REAL: 9.9\n",
            "9.9 é menor que 10\n"
          ]
        }
      ]
    },
    {
      "cell_type": "code",
      "source": [
        "'''\n",
        "3. Elabore um algoritmo que solicite ao usuário\n",
        "um número real e ao final imprima na tela se o\n",
        "número informado é maior que dez, se é menor que\n",
        "dez, ou se é igual a dez\n",
        "'''\n",
        "\n",
        "num = float(input(\"Digite um número REAL: \"))\n",
        "\n",
        "if num > 10:\n",
        "  print(num,\"é maior que 10\")\n",
        "elif num == 10:\n",
        "  print(num,\"é igual a 10\")\n",
        "else:\n",
        "  print(num,\"é menor que 10\")"
      ],
      "metadata": {
        "id": "25Bl-4GHwOWT",
        "colab": {
          "base_uri": "https://localhost:8080/"
        },
        "outputId": "d2900e89-a75c-4664-f187-e3974c5a5e2e"
      },
      "execution_count": 4,
      "outputs": [
        {
          "output_type": "stream",
          "name": "stdout",
          "text": [
            "Digite um número REAL: -5\n",
            "-5.0 é menor que 10\n"
          ]
        }
      ]
    },
    {
      "cell_type": "code",
      "source": [
        "'''\n",
        "4. Elabore um algoritmo que solicite ao usuário\n",
        "um número real e ao final imprima na tela se o\n",
        "número informado é positivo, negativo ou nulo\n",
        "(zero)\n",
        "'''\n",
        "\n",
        "num = float(input(\"Digite um número REAL: \"))\n",
        "\n",
        "if num > 0:\n",
        "  print(\"Número\", num,\"é positivo.\")\n",
        "elif num == 0:\n",
        "  print(\"Número\", num,\"é nulo.\")\n",
        "else:\n",
        "  print(\"Número\", num,\"é negativo.\")"
      ],
      "metadata": {
        "colab": {
          "base_uri": "https://localhost:8080/"
        },
        "id": "63rWO8RIwOkE",
        "outputId": "0f83ec3d-64c0-40c7-846d-b1e949988d96"
      },
      "execution_count": 5,
      "outputs": [
        {
          "output_type": "stream",
          "name": "stdout",
          "text": [
            "Digite um número REAL: 0\n",
            "Número 0.0 é nulo.\n"
          ]
        }
      ]
    },
    {
      "cell_type": "code",
      "source": [
        "'''\n",
        "5. Elabore um algoritmo que leia um número\n",
        "inteiro e imprima uma das mensagens: é múltiplo\n",
        "de 3, ou, não é múltiplo de 3\n",
        "'''\n",
        "\n",
        "multiplo = int(input(\"Digite um número INTEIRO: \"))\n",
        "\n",
        "if multiplo % 3 == 0:\n",
        "  print(multiplo,\"é múltiplo de 3\")\n",
        "else:\n",
        "  print(multiplo,\"não é múltiplo de 3\")"
      ],
      "metadata": {
        "id": "xZdQ8UngwOvC",
        "colab": {
          "base_uri": "https://localhost:8080/"
        },
        "outputId": "5acbd3e3-5f32-4424-e423-edfe5fea1886"
      },
      "execution_count": 6,
      "outputs": [
        {
          "output_type": "stream",
          "name": "stdout",
          "text": [
            "Digite um número INTEIRO: 30\n",
            "30 é múltiplo de 3\n"
          ]
        }
      ]
    },
    {
      "cell_type": "code",
      "source": [
        "'''\n",
        "6. Refazer o exercício anterior, solicitando\n",
        "antes o múltiplo a ser testado\n",
        "'''\n",
        "\n",
        "num = int(input(\"Digite um número INTEIRO: \"))\n",
        "multiplo = int(input(\"Digite outro número INTEIRO para saber se é múltiplo do anterior: \"))\n",
        "\n",
        "if multiplo % num == 0:\n",
        "  print(multiplo,\"é múltiplo de\", num)\n",
        "else:\n",
        "  print(multiplo,\"não é múltiplo de\", num)"
      ],
      "metadata": {
        "id": "O3eTSRnLwO6M",
        "colab": {
          "base_uri": "https://localhost:8080/"
        },
        "outputId": "296b576e-827c-45c2-a219-df97efab08fa"
      },
      "execution_count": 7,
      "outputs": [
        {
          "output_type": "stream",
          "name": "stdout",
          "text": [
            "Digite um número INTEIRO: 8\n",
            "Digite outro número INTEIRO para saber se é múltiplo do anterior: 64\n",
            "64 é múltiplo de 8\n"
          ]
        }
      ]
    },
    {
      "cell_type": "code",
      "source": [
        "'''\n",
        "7. Desenvolva um algoritmo que classifique um\n",
        "número inteiro fornecido pelo usuário como par\n",
        "ou ímpar\n",
        "'''\n",
        "\n",
        "num = int(input(\"Digite um número INTEIRO: \"))\n",
        "\n",
        "if num % 2 == 0:\n",
        "  print(\"O número\", num,\"é par.\")\n",
        "else:\n",
        "  print(\"O número\", num,\"é ímpar.\")"
      ],
      "metadata": {
        "id": "zNWvTGhpwPIk",
        "colab": {
          "base_uri": "https://localhost:8080/"
        },
        "outputId": "bc28abe9-f356-47f0-bda5-c2676d18e84e"
      },
      "execution_count": 8,
      "outputs": [
        {
          "output_type": "stream",
          "name": "stdout",
          "text": [
            "Digite um número INTEIRO: 9\n",
            "O número 9 é ímpar.\n"
          ]
        }
      ]
    },
    {
      "cell_type": "code",
      "source": [
        "'''\n",
        "8. Elabore um algoritmo que leia um número, e se\n",
        "ele for maior do que 20, imprimir a metade desse\n",
        "número, caso contrário, imprimir o dobro do\n",
        "número\n",
        "'''\n",
        "\n",
        "num = 50\n",
        "\n",
        "if num > 20:\n",
        "  print(num / 2)\n",
        "else:\n",
        "  print(num * 2)"
      ],
      "metadata": {
        "id": "yl8T6l3LwPXT",
        "colab": {
          "base_uri": "https://localhost:8080/"
        },
        "outputId": "add0b56f-cc66-45d4-c9bb-a225d28c1af7"
      },
      "execution_count": null,
      "outputs": [
        {
          "output_type": "stream",
          "name": "stdout",
          "text": [
            "25.0\n"
          ]
        }
      ]
    },
    {
      "cell_type": "code",
      "source": [
        "'''\n",
        "9. Elabore um algoritmo que leia dois números\n",
        "inteiros e realize a adição; caso o resultado seja\n",
        "maior que 10, imprima o quadrado do resultado,\n",
        "caso contrário, imprima a metade dele\n",
        "'''\n",
        "\n",
        "num1 = 12\n",
        "num2 = 20\n",
        "result = num1 + num2\n",
        "\n",
        "if result > 10:\n",
        "  print(result ** 2)\n",
        "else:\n",
        "  print(result / 2)"
      ],
      "metadata": {
        "id": "X1PDVkOFwPts",
        "colab": {
          "base_uri": "https://localhost:8080/"
        },
        "outputId": "89264b0c-5615-45b8-aa50-69a83e483b8a"
      },
      "execution_count": null,
      "outputs": [
        {
          "output_type": "stream",
          "name": "stdout",
          "text": [
            "1024\n"
          ]
        }
      ]
    },
    {
      "cell_type": "code",
      "source": [
        "'''\n",
        "10. O sistema de avaliação de determinada disciplina\n",
        "é composto por três provas. A primeira prova tem peso\n",
        "2, a segunda tem peso 3 e a terceira tem peso 5.\n",
        "Considerando que a média para aprovação é 6.0, faça\n",
        "um algoritmo para calcular a média final de um aluno\n",
        "desta disciplina e dizer se o aluno foi aprovado ou não\n",
        "'''\n",
        "\n",
        "nota1 = float(input(\"Nota da primeira prova: \"))\n",
        "nota2 = float(input(\"Nota da segunda prova: \"))\n",
        "nota3 = float(input(\"Nota da terceira prova: \"))\n",
        "media = (nota1 * 2 + nota2 * 3 + nota3 * 5) / 10\n",
        "\n",
        "if media >= 6:\n",
        "  print(\"O aluno está aprovado.\")\n",
        "else:\n",
        "  print(\"O aluno não foi aprovado.\")"
      ],
      "metadata": {
        "id": "j2EUH_lQwP2r",
        "colab": {
          "base_uri": "https://localhost:8080/"
        },
        "outputId": "ca683718-68af-4204-fab9-7d957aac7d64"
      },
      "execution_count": 9,
      "outputs": [
        {
          "output_type": "stream",
          "name": "stdout",
          "text": [
            "Nota da primeira prova: 6\n",
            "Nota da segunda prova: 6\n",
            "Nota da terceira prova: 6\n",
            "O aluno está aprovado.\n"
          ]
        }
      ]
    },
    {
      "cell_type": "code",
      "source": [
        "'''\n",
        "11. Elabore um algoritmo que leia o nome e o peso de\n",
        "duas pessoas e imprima o nome da pessoa mais pesada\n",
        "'''\n",
        "\n",
        "nome1 = str(input(\"Nome da primeira pessoa: \"))\n",
        "peso1 = float(input(\"Peso dessa pessoa: \"))\n",
        "nome2 = str(input(\"\\nNome da segunda pessoa: \"))\n",
        "peso2 = float(input(\"Peso dessa pessoa: \"))\n",
        "\n",
        "if peso1 > peso2:\n",
        "  print(\"\\n\", nome1,\"é a pessoa mais pesada.\")\n",
        "else:\n",
        "  print(\"\\n\"+nome2,\"é a pessoa mais pesada.\")"
      ],
      "metadata": {
        "id": "R_wOo022wQEk",
        "colab": {
          "base_uri": "https://localhost:8080/"
        },
        "outputId": "ba051257-e820-42e0-e719-fee5810ba1e0"
      },
      "execution_count": 13,
      "outputs": [
        {
          "output_type": "stream",
          "name": "stdout",
          "text": [
            "Nome da primeira pessoa: Emanuel\n",
            "Peso dessa pessoa: 81\n",
            "\n",
            "Nome da segunda pessoa: Samara\n",
            "Peso dessa pessoa: 112\n",
            "\n",
            "Samara é a pessoa mais pesada.\n"
          ]
        }
      ]
    },
    {
      "cell_type": "code",
      "source": [
        "'''\n",
        "12. Elabore um algoritmo que indique se um número\n",
        "digitado está compreendido entre 20 e 90, ou não\n",
        "'''\n",
        "\n",
        "num = float(input(\"Digite um número: \"))\n",
        "\n",
        "if num >= 20 and num <= 90:\n",
        "  print(num,\"está compreendido entre 20 e 90\")\n",
        "else:\n",
        "  print(num,\"não está compreendido entre 20 e 90\")"
      ],
      "metadata": {
        "id": "wWHiCjIJwQPr",
        "colab": {
          "base_uri": "https://localhost:8080/"
        },
        "outputId": "60769c18-2777-4409-f902-8f8bdcdbc54d"
      },
      "execution_count": 14,
      "outputs": [
        {
          "output_type": "stream",
          "name": "stdout",
          "text": [
            "Digite um número: 19\n",
            "19.0 não está compreendido entre 20 e 90\n"
          ]
        }
      ]
    },
    {
      "cell_type": "code",
      "source": [
        "'''\n",
        "13. Elabore um algoritmo que leia dois números e\n",
        "imprima qual é maior, qual é menor, ou se são iguais\n",
        "'''\n",
        "\n",
        "num1 = float(input(\"Digite um número: \"))\n",
        "num2 = float(input(\"Digite outro número: \"))\n",
        "\n",
        "if num1 == num2:\n",
        "  print(\"Os dois números são iguais.\")\n",
        "else:\n",
        "  if num1 > num2:\n",
        "    print(num1,\"é o maior número.\")\n",
        "  else:\n",
        "    print(num2,\"é o maior número.\")\n",
        "\n",
        "  if num1 < num2:\n",
        "    print(num1,\"é o menor número.\")\n",
        "  else:\n",
        "    print(num2,\"é o menor número.\")"
      ],
      "metadata": {
        "id": "rDKyVAJPwQjM",
        "colab": {
          "base_uri": "https://localhost:8080/"
        },
        "outputId": "a9b6ecd4-cfcf-45a1-b595-52453499594e"
      },
      "execution_count": 15,
      "outputs": [
        {
          "output_type": "stream",
          "name": "stdout",
          "text": [
            "Digite um número: 11\n",
            "Digite outro número: 5\n",
            "11.0 é o maior número.\n",
            "5.0 é o menor número.\n"
          ]
        }
      ]
    },
    {
      "cell_type": "code",
      "source": [
        "'''\n",
        "14. Escreva um programa em linguagem Python que solicite\n",
        "ao usuário a média para aprovação em um curso e em\n",
        "seguida solicite ao usuário o nome, sexo e as 03\n",
        "notas do aluno e ao final imprima a frase: \"O aluno\n",
        "XXXXX foi aprovado com media YY\" considerando o gênero\n",
        "do(a) aluno(a) e se foi aprovado(a) ou reprovado(a)\n",
        "'''\n",
        "\n",
        "media = float(input(\"Digite a média para aprovação: \"))\n",
        "nome = str(input(\"\\nNome do aluno: \"))\n",
        "sexo = str(input(\"Sexo: \"))\n",
        "nota1 = float(input(\"\\nPrimeira nota do aluno: \"))\n",
        "nota2 = float(input(\"Segunda nota do aluno: \"))\n",
        "nota3 = float(input(\"Terceira nota do aluno: \"))\n",
        "result = (nota1 + nota2 + nota3) / 3\n",
        "\n",
        "if sexo == \"Feminino\" or sexo == \"feminino\" or sexo == \"F\":\n",
        "  if result >= media:\n",
        "    print(f\"\\nA aluna {nome} foi aprovada com média {result:0.2f}\")\n",
        "  else:\n",
        "    print(f\"\\nA aluna {nome} foi reprovada com média {result:0.2f}\")\n",
        "elif sexo == \"Masculino\" or sexo == \"masculino\" or sexo == \"M\":\n",
        "  if result >= media:\n",
        "    print(f\"\\nO aluno {nome} foi aprovado com média {result:0.2f}\")\n",
        "  else:\n",
        "    print(f\"\\nO aluno {nome} foi reprovado com média {result:0.2f}\")\n",
        "else:\n",
        "  print(\"\\nDado(s) inserido(s) inválido(s).\")"
      ],
      "metadata": {
        "id": "4WgklIaLwj8s",
        "colab": {
          "base_uri": "https://localhost:8080/"
        },
        "outputId": "fb640a8e-e26a-4400-dfe8-b87e45add6b3"
      },
      "execution_count": 17,
      "outputs": [
        {
          "output_type": "stream",
          "name": "stdout",
          "text": [
            "Digite a média para aprovação: 6\n",
            "\n",
            "Nome do aluno: Cristiane\n",
            "Sexo: Feminino\n",
            "\n",
            "Primeira nota do aluno: 6\n",
            "Segunda nota do aluno: 6\n",
            "Terceira nota do aluno: 8\n",
            "\n",
            "A aluna Cristiane foi aprovada com média 6.67\n"
          ]
        }
      ]
    }
  ]
}